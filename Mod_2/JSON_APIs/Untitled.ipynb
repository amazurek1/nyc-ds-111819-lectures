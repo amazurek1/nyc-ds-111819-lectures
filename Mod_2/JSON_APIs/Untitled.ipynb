{
 "cells": [
  {
   "cell_type": "code",
   "execution_count": 11,
   "metadata": {},
   "outputs": [],
   "source": [
    "import requests\n",
    "import json\n",
    "\n",
    "import mysql.connector\n",
    "\n",
    "cnx = mysql.connector.connect(\n",
    "    host = \"flatiron.cimm2ummmfkj.us-east-1.rds.amazonaws.com\",\n",
    "    user = \"avivamaz\",\n",
    "    passwd = \"Ghustav1!\")\n",
    "\n",
    "cursor = cnx.cursor()\n",
    "\n",
    "cnx.database = 'yelp'"
   ]
  },
  {
   "cell_type": "code",
   "execution_count": 12,
   "metadata": {},
   "outputs": [],
   "source": [
    "url = f'https://api.yelp.com/v3/businesses/1BpJdbEdJzfIqpmbqxv0wg/reviews'"
   ]
  },
  {
   "cell_type": "code",
   "execution_count": 13,
   "metadata": {},
   "outputs": [],
   "source": [
    "client_id = 'O-E5Od4R_LRN58GCv0_4xQ'\n",
    "api_key = 'bzeWISo1x-EG8CXGaynhcxkV___l10Fmf4ThmxYaFuIC-xRL3zGM_tS-1UZGBWqv5oCK5f0hhaZLsOufaUrQeWPXX20fitWPuuqW3HLI_2uiYuOzXS-hq2o5OWXpXXYx'\n",
    "\n",
    "headers = {\n",
    "            'Authorization': 'Bearer {}'.format(api_key),\n",
    "        }\n",
    "\n",
    "response = requests.get(url, headers=headers)\n",
    "\n",
    "reviews_1=response.json()"
   ]
  },
  {
   "cell_type": "code",
   "execution_count": 14,
   "metadata": {},
   "outputs": [
    {
     "data": {
      "text/plain": [
       "2"
      ]
     },
     "execution_count": 14,
     "metadata": {},
     "output_type": "execute_result"
    }
   ],
   "source": [
    "len(reviews_1['reviews'])"
   ]
  },
  {
   "cell_type": "code",
   "execution_count": 24,
   "metadata": {},
   "outputs": [],
   "source": [
    "rev_tuple = (reviews_1['reviews'][1]['id'], reviews_1['reviews'][1]['text'],\n",
    "             reviews_1['reviews'][1]['rating'],reviews_1['reviews'][1]['time_created'],'1BpJdbEdJzfIqpmbqxv0wg')"
   ]
  },
  {
   "cell_type": "code",
   "execution_count": 25,
   "metadata": {},
   "outputs": [
    {
     "data": {
      "text/plain": [
       "('NS2G9thVIP2p7d4Le5-WRQ',\n",
       " \"It's finally nice to have an affordable deli in Murray hill . The guys are nice and everything is fresh and CLEAN which is hard to pull off in nyc (the...\",\n",
       " 5,\n",
       " '2019-03-06 14:01:35',\n",
       " '1BpJdbEdJzfIqpmbqxv0wg')"
      ]
     },
     "execution_count": 25,
     "metadata": {},
     "output_type": "execute_result"
    }
   ],
   "source": [
    "rev_tuple"
   ]
  },
  {
   "cell_type": "code",
   "execution_count": 26,
   "metadata": {},
   "outputs": [],
   "source": [
    "insert_stm = \"\"\"INSERT INTO reviews (review_id, review_text, rating, time_created, business_id) \n",
    "VALUES (%s, %s, %s, %s, %s)\"\"\"\n",
    "cursor.execute(insert_stm, rev_tuple)\n",
    "cnx.commit()"
   ]
  },
  {
   "cell_type": "code",
   "execution_count": null,
   "metadata": {},
   "outputs": [],
   "source": []
  }
 ],
 "metadata": {
  "kernelspec": {
   "display_name": "Python 3",
   "language": "python",
   "name": "python3"
  },
  "language_info": {
   "codemirror_mode": {
    "name": "ipython",
    "version": 3
   },
   "file_extension": ".py",
   "mimetype": "text/x-python",
   "name": "python",
   "nbconvert_exporter": "python",
   "pygments_lexer": "ipython3",
   "version": "3.7.1"
  }
 },
 "nbformat": 4,
 "nbformat_minor": 2
}
