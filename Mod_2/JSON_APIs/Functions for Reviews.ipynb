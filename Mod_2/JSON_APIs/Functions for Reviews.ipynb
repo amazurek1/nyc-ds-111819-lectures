{
 "cells": [
  {
   "cell_type": "code",
   "execution_count": 26,
   "metadata": {},
   "outputs": [],
   "source": [
    "import requests\n",
    "import json\n",
    "\n",
    "import mysql.connector\n",
    "\n",
    "cnx = mysql.connector.connect(\n",
    "    host = \"flatiron.cimm2ummmfkj.us-east-1.rds.amazonaws.com\",\n",
    "    user = \"avivamaz\",\n",
    "    passwd = \"Ghustav1!\")\n",
    "\n",
    "cursor = cnx.cursor()\n",
    "\n",
    "cnx.database = 'yelp'\n",
    "\n",
    "cursor.execute(\"\"\"SELECT business_id FROM yelp.businesses;\"\"\")\n",
    "\n",
    "is_list = cursor.fetchall()\n",
    "new_list = []\n",
    "for t in is_list: \n",
    "    for x in t: \n",
    "        new_list.append(x)"
   ]
  },
  {
   "cell_type": "code",
   "execution_count": 27,
   "metadata": {},
   "outputs": [],
   "source": [
    "client_id = 'O-E5Od4R_LRN58GCv0_4xQ'\n",
    "api_key = 'bzeWISo1x-EG8CXGaynhcxkV___l10Fmf4ThmxYaFuIC-xRL3zGM_tS-1UZGBWqv5oCK5f0hhaZLsOufaUrQeWPXX20fitWPuuqW3HLI_2uiYuOzXS-hq2o5OWXpXXYx'\n",
    "\n",
    "headers = {\n",
    "            'Authorization': 'Bearer {}'.format(api_key),\n",
    "        }"
   ]
  },
  {
   "cell_type": "code",
   "execution_count": 28,
   "metadata": {},
   "outputs": [],
   "source": [
    "def api_call(url,headers):\n",
    "    response = requests.get(url, headers=headers)\n",
    "    reviews_1=response.json()\n",
    "    return (reviews_1)"
   ]
  },
  {
   "cell_type": "code",
   "execution_count": 29,
   "metadata": {},
   "outputs": [],
   "source": [
    "def become_tuple(reviews_1, B_id):\n",
    "    list_reviews = []\n",
    "    i=0\n",
    "    for reviews in reviews_1:\n",
    "        rev_tuple = (reviews_1['reviews'][i]['id'], reviews_1['reviews'][i]['text'], reviews_1['reviews'][i]['rating'],reviews_1['reviews'][i]['time_created'],B_id)\n",
    "        list_reviews.append(rev_tuple)\n",
    "        i+=1"
   ]
  },
  {
   "cell_type": "code",
   "execution_count": 30,
   "metadata": {},
   "outputs": [],
   "source": [
    "def insert_fxn(cnx,cursor,THE_LIST):\n",
    "    insert_stm = \"\"\"INSERT INTO reviews (review_id, review_text, rating, time_created, business_id) \n",
    "    VALUES (%s, %s, %s, %s, %s)\"\"\"\n",
    "    cursor.executemany(insert_stm, THE_LIST)\n",
    "    cnx.commit()"
   ]
  },
  {
   "cell_type": "code",
   "execution_count": 31,
   "metadata": {},
   "outputs": [],
   "source": [
    "def process(THEREALLIST):\n",
    "    for item in new_list:\n",
    "        print(item)\n",
    "        url= f'https://api.yelp.com/v3/businesses/{item}/reviews'\n",
    "        reviews_1=api_call(url,headers)\n",
    "        list_reviews=become_tuple(reviews_1, item)\n",
    "        insert_fxn(cnx,cursor,list_reviews)\n",
    "        "
   ]
  },
  {
   "cell_type": "code",
   "execution_count": 32,
   "metadata": {},
   "outputs": [
    {
     "name": "stdout",
     "output_type": "stream",
     "text": [
      "-4kcsbvIeYs_Zxu7V1PYOw\n",
      "-6_mNKxOChmZb6qcdMfOtA\n",
      "-9lLvldlGVYz2J5zIVFCFQ\n",
      "-A81u3-QYa5paw3eni26bg\n",
      "-ogb8JWn8dvgzZA656EANA\n",
      "-Qc-eEU6EyOMcrnzQf-eSQ\n",
      "-QxLmhWY8D7e3ivpebUPng\n",
      "-rM1ZG6WjgIpmYAlG__dnA\n",
      "-S_tOPcfwhxO5NTHQEjIrA\n",
      "-Td-YEPTOUq2H3LRWgRxUw\n",
      "-Uc6m_rQqYSgRr8FBd63Yw\n",
      "065Hx78ODuM19f_ffD7Isw\n",
      "0dO6JJPmkivbK8-Qu5eUYg\n",
      "0EHlocaJGVHPENeILaubUg\n",
      "0gHKcrQlEuDUsCr3YuWSDA\n",
      "0IwdwNnbro5RLLIlaxyfpQ\n",
      "0moBSyrTezcT3uePV74nug\n",
      "0pohq-vk8zKoi8ntSJnX4g\n",
      "0q4NOJmbJhm-zJELYs_0Tg\n",
      "0QGtlNv6I6CqyWV_06CqOQ\n",
      "0rQz8mkleT62eUkiAVs4UA\n",
      "0UoDd4oBGc80oMdemaFldA\n",
      "0VYAqXbYRcyiQU8QS-SG_g\n",
      "0V_y6DvAa94uG9F3Itgl_g\n",
      "0wSOGZrj4ILpZSgE7SaYuw\n",
      "1-K3qGMOtZ_Dv5e7CJxusQ\n",
      "109GtGdJjPDLbGgnnld3Kw\n",
      "12anHG0qFlw8Jkb99RX3Mg\n",
      "18-qEPtsL2lbZH4ianmicg\n",
      "1BpJdbEdJzfIqpmbqxv0wg\n"
     ]
    },
    {
     "ename": "IndexError",
     "evalue": "list index out of range",
     "output_type": "error",
     "traceback": [
      "\u001b[0;31m---------------------------------------------------------------------------\u001b[0m",
      "\u001b[0;31mIndexError\u001b[0m                                Traceback (most recent call last)",
      "\u001b[0;32m<ipython-input-32-5326de2f739c>\u001b[0m in \u001b[0;36m<module>\u001b[0;34m\u001b[0m\n\u001b[0;32m----> 1\u001b[0;31m \u001b[0mprocess\u001b[0m\u001b[0;34m(\u001b[0m\u001b[0mnew_list\u001b[0m\u001b[0;34m)\u001b[0m\u001b[0;34m\u001b[0m\u001b[0;34m\u001b[0m\u001b[0m\n\u001b[0m",
      "\u001b[0;32m<ipython-input-31-4f7cce8e5069>\u001b[0m in \u001b[0;36mprocess\u001b[0;34m(THEREALLIST)\u001b[0m\n\u001b[1;32m      4\u001b[0m         \u001b[0murl\u001b[0m\u001b[0;34m=\u001b[0m \u001b[0;34mf'https://api.yelp.com/v3/businesses/{item}/reviews'\u001b[0m\u001b[0;34m\u001b[0m\u001b[0;34m\u001b[0m\u001b[0m\n\u001b[1;32m      5\u001b[0m         \u001b[0mreviews_1\u001b[0m\u001b[0;34m=\u001b[0m\u001b[0mapi_call\u001b[0m\u001b[0;34m(\u001b[0m\u001b[0murl\u001b[0m\u001b[0;34m,\u001b[0m\u001b[0mheaders\u001b[0m\u001b[0;34m)\u001b[0m\u001b[0;34m\u001b[0m\u001b[0;34m\u001b[0m\u001b[0m\n\u001b[0;32m----> 6\u001b[0;31m         \u001b[0mlist_reviews\u001b[0m\u001b[0;34m=\u001b[0m\u001b[0mbecome_tuple\u001b[0m\u001b[0;34m(\u001b[0m\u001b[0mreviews_1\u001b[0m\u001b[0;34m,\u001b[0m \u001b[0mitem\u001b[0m\u001b[0;34m)\u001b[0m\u001b[0;34m\u001b[0m\u001b[0;34m\u001b[0m\u001b[0m\n\u001b[0m\u001b[1;32m      7\u001b[0m         \u001b[0minsert_fxn\u001b[0m\u001b[0;34m(\u001b[0m\u001b[0mcnx\u001b[0m\u001b[0;34m,\u001b[0m\u001b[0mcursor\u001b[0m\u001b[0;34m,\u001b[0m\u001b[0mlist_reviews\u001b[0m\u001b[0;34m)\u001b[0m\u001b[0;34m\u001b[0m\u001b[0;34m\u001b[0m\u001b[0m\n\u001b[1;32m      8\u001b[0m \u001b[0;34m\u001b[0m\u001b[0m\n",
      "\u001b[0;32m<ipython-input-29-88f82bc61ab0>\u001b[0m in \u001b[0;36mbecome_tuple\u001b[0;34m(reviews_1, B_id)\u001b[0m\n\u001b[1;32m      3\u001b[0m     \u001b[0mi\u001b[0m\u001b[0;34m=\u001b[0m\u001b[0;36m0\u001b[0m\u001b[0;34m\u001b[0m\u001b[0;34m\u001b[0m\u001b[0m\n\u001b[1;32m      4\u001b[0m     \u001b[0;32mfor\u001b[0m \u001b[0mreviews\u001b[0m \u001b[0;32min\u001b[0m \u001b[0mreviews_1\u001b[0m\u001b[0;34m:\u001b[0m\u001b[0;34m\u001b[0m\u001b[0;34m\u001b[0m\u001b[0m\n\u001b[0;32m----> 5\u001b[0;31m         \u001b[0mrev_tuple\u001b[0m \u001b[0;34m=\u001b[0m \u001b[0;34m(\u001b[0m\u001b[0mreviews_1\u001b[0m\u001b[0;34m[\u001b[0m\u001b[0;34m'reviews'\u001b[0m\u001b[0;34m]\u001b[0m\u001b[0;34m[\u001b[0m\u001b[0mi\u001b[0m\u001b[0;34m]\u001b[0m\u001b[0;34m[\u001b[0m\u001b[0;34m'id'\u001b[0m\u001b[0;34m]\u001b[0m\u001b[0;34m,\u001b[0m \u001b[0mreviews_1\u001b[0m\u001b[0;34m[\u001b[0m\u001b[0;34m'reviews'\u001b[0m\u001b[0;34m]\u001b[0m\u001b[0;34m[\u001b[0m\u001b[0mi\u001b[0m\u001b[0;34m]\u001b[0m\u001b[0;34m[\u001b[0m\u001b[0;34m'text'\u001b[0m\u001b[0;34m]\u001b[0m\u001b[0;34m,\u001b[0m \u001b[0mreviews_1\u001b[0m\u001b[0;34m[\u001b[0m\u001b[0;34m'reviews'\u001b[0m\u001b[0;34m]\u001b[0m\u001b[0;34m[\u001b[0m\u001b[0mi\u001b[0m\u001b[0;34m]\u001b[0m\u001b[0;34m[\u001b[0m\u001b[0;34m'rating'\u001b[0m\u001b[0;34m]\u001b[0m\u001b[0;34m,\u001b[0m\u001b[0mreviews_1\u001b[0m\u001b[0;34m[\u001b[0m\u001b[0;34m'reviews'\u001b[0m\u001b[0;34m]\u001b[0m\u001b[0;34m[\u001b[0m\u001b[0mi\u001b[0m\u001b[0;34m]\u001b[0m\u001b[0;34m[\u001b[0m\u001b[0;34m'time_created'\u001b[0m\u001b[0;34m]\u001b[0m\u001b[0;34m,\u001b[0m\u001b[0mB_id\u001b[0m\u001b[0;34m)\u001b[0m\u001b[0;34m\u001b[0m\u001b[0;34m\u001b[0m\u001b[0m\n\u001b[0m\u001b[1;32m      6\u001b[0m         \u001b[0mlist_reviews\u001b[0m\u001b[0;34m.\u001b[0m\u001b[0mappend\u001b[0m\u001b[0;34m(\u001b[0m\u001b[0mrev_tuple\u001b[0m\u001b[0;34m)\u001b[0m\u001b[0;34m\u001b[0m\u001b[0;34m\u001b[0m\u001b[0m\n\u001b[1;32m      7\u001b[0m         \u001b[0mi\u001b[0m\u001b[0;34m+=\u001b[0m\u001b[0;36m1\u001b[0m\u001b[0;34m\u001b[0m\u001b[0;34m\u001b[0m\u001b[0m\n",
      "\u001b[0;31mIndexError\u001b[0m: list index out of range"
     ]
    }
   ],
   "source": [
    "process(new_list)"
   ]
  },
  {
   "cell_type": "code",
   "execution_count": null,
   "metadata": {},
   "outputs": [],
   "source": []
  }
 ],
 "metadata": {
  "kernelspec": {
   "display_name": "Python 3",
   "language": "python",
   "name": "python3"
  },
  "language_info": {
   "codemirror_mode": {
    "name": "ipython",
    "version": 3
   },
   "file_extension": ".py",
   "mimetype": "text/x-python",
   "name": "python",
   "nbconvert_exporter": "python",
   "pygments_lexer": "ipython3",
   "version": "3.7.1"
  }
 },
 "nbformat": 4,
 "nbformat_minor": 2
}
