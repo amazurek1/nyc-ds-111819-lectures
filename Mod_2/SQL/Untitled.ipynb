{
 "cells": [
  {
   "cell_type": "code",
   "execution_count": 34,
   "metadata": {},
   "outputs": [],
   "source": [
    "import pandas as pd"
   ]
  },
  {
   "cell_type": "code",
   "execution_count": null,
   "metadata": {},
   "outputs": [],
   "source": [
    "pd.Data"
   ]
  },
  {
   "cell_type": "code",
   "execution_count": 1,
   "metadata": {},
   "outputs": [],
   "source": [
    "import mysql.connector "
   ]
  },
  {
   "cell_type": "code",
   "execution_count": 2,
   "metadata": {},
   "outputs": [],
   "source": [
    "import json\n",
    "\n",
    "f=open('students.json','r')\n",
    "data=json.load(f)"
   ]
  },
  {
   "cell_type": "code",
   "execution_count": 6,
   "metadata": {},
   "outputs": [],
   "source": [
    "#.connect is a function of mysequal that allows me to connect to aws\n",
    "#could have also written in this cnx = database = students\n",
    "cnx = mysql.connector.connect(\n",
    "    host = \"flatiron.cimm2ummmfkj.us-east-1.rds.amazonaws.com\",\n",
    "    user = \"avivamaz\",\n",
    "    passwd = \"Ghustav1!\")\n",
    "#.cursor is a method of cnx\n",
    "cursor = cnx.cursor()"
   ]
  },
  {
   "cell_type": "code",
   "execution_count": null,
   "metadata": {},
   "outputs": [],
   "source": []
  },
  {
   "cell_type": "code",
   "execution_count": 4,
   "metadata": {
    "collapsed": true
   },
   "outputs": [
    {
     "ename": "DatabaseError",
     "evalue": "1007 (HY000): Can't create database 'students'; database exists",
     "output_type": "error",
     "traceback": [
      "\u001b[0;31m---------------------------------------------------------------------------\u001b[0m",
      "\u001b[0;31mMySQLInterfaceError\u001b[0m                       Traceback (most recent call last)",
      "\u001b[0;32m/anaconda3/lib/python3.7/site-packages/mysql/connector/connection_cext.py\u001b[0m in \u001b[0;36mcmd_query\u001b[0;34m(self, query, raw, buffered, raw_as_string)\u001b[0m\n\u001b[1;32m    471\u001b[0m                                \u001b[0mraw\u001b[0m\u001b[0;34m=\u001b[0m\u001b[0mraw\u001b[0m\u001b[0;34m,\u001b[0m \u001b[0mbuffered\u001b[0m\u001b[0;34m=\u001b[0m\u001b[0mbuffered\u001b[0m\u001b[0;34m,\u001b[0m\u001b[0;34m\u001b[0m\u001b[0;34m\u001b[0m\u001b[0m\n\u001b[0;32m--> 472\u001b[0;31m                                raw_as_string=raw_as_string)\n\u001b[0m\u001b[1;32m    473\u001b[0m         \u001b[0;32mexcept\u001b[0m \u001b[0mMySQLInterfaceError\u001b[0m \u001b[0;32mas\u001b[0m \u001b[0mexc\u001b[0m\u001b[0;34m:\u001b[0m\u001b[0;34m\u001b[0m\u001b[0;34m\u001b[0m\u001b[0m\n",
      "\u001b[0;31mMySQLInterfaceError\u001b[0m: Can't create database 'students'; database exists",
      "\nDuring handling of the above exception, another exception occurred:\n",
      "\u001b[0;31mDatabaseError\u001b[0m                             Traceback (most recent call last)",
      "\u001b[0;32m<ipython-input-4-50e0beded48b>\u001b[0m in \u001b[0;36m<module>\u001b[0;34m\u001b[0m\n\u001b[0;32m----> 1\u001b[0;31m \u001b[0mcursor\u001b[0m\u001b[0;34m.\u001b[0m\u001b[0mexecute\u001b[0m\u001b[0;34m(\u001b[0m\u001b[0;34m\"CREATE DATABASE students\"\u001b[0m\u001b[0;34m)\u001b[0m\u001b[0;34m\u001b[0m\u001b[0;34m\u001b[0m\u001b[0m\n\u001b[0m",
      "\u001b[0;32m/anaconda3/lib/python3.7/site-packages/mysql/connector/cursor_cext.py\u001b[0m in \u001b[0;36mexecute\u001b[0;34m(self, operation, params, multi)\u001b[0m\n\u001b[1;32m    264\u001b[0m             result = self._cnx.cmd_query(stmt, raw=self._raw,\n\u001b[1;32m    265\u001b[0m                                          \u001b[0mbuffered\u001b[0m\u001b[0;34m=\u001b[0m\u001b[0mself\u001b[0m\u001b[0;34m.\u001b[0m\u001b[0m_buffered\u001b[0m\u001b[0;34m,\u001b[0m\u001b[0;34m\u001b[0m\u001b[0;34m\u001b[0m\u001b[0m\n\u001b[0;32m--> 266\u001b[0;31m                                          raw_as_string=self._raw_as_string)\n\u001b[0m\u001b[1;32m    267\u001b[0m         \u001b[0;32mexcept\u001b[0m \u001b[0mMySQLInterfaceError\u001b[0m \u001b[0;32mas\u001b[0m \u001b[0mexc\u001b[0m\u001b[0;34m:\u001b[0m\u001b[0;34m\u001b[0m\u001b[0;34m\u001b[0m\u001b[0m\n\u001b[1;32m    268\u001b[0m             raise errors.get_mysql_exception(msg=exc.msg, errno=exc.errno,\n",
      "\u001b[0;32m/anaconda3/lib/python3.7/site-packages/mysql/connector/connection_cext.py\u001b[0m in \u001b[0;36mcmd_query\u001b[0;34m(self, query, raw, buffered, raw_as_string)\u001b[0m\n\u001b[1;32m    473\u001b[0m         \u001b[0;32mexcept\u001b[0m \u001b[0mMySQLInterfaceError\u001b[0m \u001b[0;32mas\u001b[0m \u001b[0mexc\u001b[0m\u001b[0;34m:\u001b[0m\u001b[0;34m\u001b[0m\u001b[0;34m\u001b[0m\u001b[0m\n\u001b[1;32m    474\u001b[0m             raise errors.get_mysql_exception(exc.errno, msg=exc.msg,\n\u001b[0;32m--> 475\u001b[0;31m                                              sqlstate=exc.sqlstate)\n\u001b[0m\u001b[1;32m    476\u001b[0m         \u001b[0;32mexcept\u001b[0m \u001b[0mAttributeError\u001b[0m\u001b[0;34m:\u001b[0m\u001b[0;34m\u001b[0m\u001b[0;34m\u001b[0m\u001b[0m\n\u001b[1;32m    477\u001b[0m             \u001b[0;32mif\u001b[0m \u001b[0mself\u001b[0m\u001b[0;34m.\u001b[0m\u001b[0m_unix_socket\u001b[0m\u001b[0;34m:\u001b[0m\u001b[0;34m\u001b[0m\u001b[0;34m\u001b[0m\u001b[0m\n",
      "\u001b[0;31mDatabaseError\u001b[0m: 1007 (HY000): Can't create database 'students'; database exists"
     ]
    }
   ],
   "source": [
    "#this has an error this time because only need to run it once to create the database\n",
    "#.execute is a method of cnx\n",
    "cursor.execute(\"CREATE DATABASE students\")"
   ]
  },
  {
   "cell_type": "code",
   "execution_count": 9,
   "metadata": {},
   "outputs": [],
   "source": [
    "#.database is an attribute because there are no ()\n",
    "#cnx.database = 'students' allows us to access the database called students without having to say cnx.students every time\n",
    "cnx.database = 'students'\n"
   ]
  },
  {
   "cell_type": "code",
   "execution_count": 7,
   "metadata": {},
   "outputs": [],
   "source": [
    "create_query = \"\"\"\n",
    "CREATE TABLE students\n",
    "(name VARCHAR(225), dob date, fav_food VARCHAR(200), birthplace VARCHAR(225),years_in_nyc int\n",
    ");\n",
    "\"\"\""
   ]
  },
  {
   "cell_type": "code",
   "execution_count": 10,
   "metadata": {},
   "outputs": [],
   "source": [
    "cursor.execute(create_query)"
   ]
  },
  {
   "cell_type": "code",
   "execution_count": 27,
   "metadata": {},
   "outputs": [],
   "source": [
    "students_list = []\n",
    "\n",
    "for student in data:\n",
    "    if 'birthdate' in student:\n",
    "        student['dob']=student['birthdate']\n",
    "        \n",
    "    student_tuple= (student['name'],\n",
    "                    student['dob'],\n",
    "                    student['fav_food'],\n",
    "                    student['birthplace'],\n",
    "                    student['years_in_nyc'])\n",
    "    students_list.append(student_tuple)"
   ]
  },
  {
   "cell_type": "code",
   "execution_count": 19,
   "metadata": {},
   "outputs": [],
   "source": [
    "stmt = \"\"\"INSERT INTO students (name, dob, fav_foodVAR, birthplace, years_in_nyc)\n",
    "        VALUES (%s, %s, %s, %s, %s)\"\"\""
   ]
  },
  {
   "cell_type": "code",
   "execution_count": 23,
   "metadata": {},
   "outputs": [],
   "source": [
    "fake = (1,2,3,4)"
   ]
  },
  {
   "cell_type": "code",
   "execution_count": 20,
   "metadata": {},
   "outputs": [
    {
     "data": {
      "text/plain": [
       "('Anastasia Gorina', '1991-07-19', 'oysters', 'St. Petersburg, Russia', 5)"
      ]
     },
     "execution_count": 20,
     "metadata": {},
     "output_type": "execute_result"
    }
   ],
   "source": [
    "students_list[0]"
   ]
  },
  {
   "cell_type": "code",
   "execution_count": null,
   "metadata": {},
   "outputs": [],
   "source": [
    "cursor.execute()"
   ]
  },
  {
   "cell_type": "code",
   "execution_count": 21,
   "metadata": {},
   "outputs": [],
   "source": [
    "cursor.execute(stmt, students_list[0])"
   ]
  },
  {
   "cell_type": "code",
   "execution_count": 22,
   "metadata": {},
   "outputs": [],
   "source": [
    "#cnx.commite()\n",
    "cnx.commit()"
   ]
  },
  {
   "cell_type": "code",
   "execution_count": 28,
   "metadata": {},
   "outputs": [],
   "source": [
    "\n",
    "cursor.executemany(stmt, students_list)\n",
    "cnx.commit()"
   ]
  },
  {
   "cell_type": "code",
   "execution_count": 32,
   "metadata": {},
   "outputs": [],
   "source": [
    "cursor.execute('''SELECT * FROM students;''')"
   ]
  },
  {
   "cell_type": "code",
   "execution_count": 33,
   "metadata": {},
   "outputs": [],
   "source": [
    "dat1 = cursor.fetchall()"
   ]
  },
  {
   "cell_type": "code",
   "execution_count": 36,
   "metadata": {
    "collapsed": true
   },
   "outputs": [
    {
     "data": {
      "text/html": [
       "<div>\n",
       "<style scoped>\n",
       "    .dataframe tbody tr th:only-of-type {\n",
       "        vertical-align: middle;\n",
       "    }\n",
       "\n",
       "    .dataframe tbody tr th {\n",
       "        vertical-align: top;\n",
       "    }\n",
       "\n",
       "    .dataframe thead th {\n",
       "        text-align: right;\n",
       "    }\n",
       "</style>\n",
       "<table border=\"1\" class=\"dataframe\">\n",
       "  <thead>\n",
       "    <tr style=\"text-align: right;\">\n",
       "      <th></th>\n",
       "      <th>0</th>\n",
       "      <th>1</th>\n",
       "      <th>2</th>\n",
       "      <th>3</th>\n",
       "      <th>4</th>\n",
       "    </tr>\n",
       "  </thead>\n",
       "  <tbody>\n",
       "    <tr>\n",
       "      <th>0</th>\n",
       "      <td>Anastasia Gorina</td>\n",
       "      <td>1991-07-19</td>\n",
       "      <td>oysters</td>\n",
       "      <td>St. Petersburg, Russia</td>\n",
       "      <td>5</td>\n",
       "    </tr>\n",
       "    <tr>\n",
       "      <th>1</th>\n",
       "      <td>Andres M Chaves</td>\n",
       "      <td>1983-01-22</td>\n",
       "      <td>chocolate</td>\n",
       "      <td>Bogota, CU</td>\n",
       "      <td>6</td>\n",
       "    </tr>\n",
       "    <tr>\n",
       "      <th>2</th>\n",
       "      <td>Andrew Triola</td>\n",
       "      <td>1989-10-17</td>\n",
       "      <td>baked ziti</td>\n",
       "      <td>Washington DC</td>\n",
       "      <td>3</td>\n",
       "    </tr>\n",
       "    <tr>\n",
       "      <th>3</th>\n",
       "      <td>Anita Guo</td>\n",
       "      <td>1990-12-17</td>\n",
       "      <td>Seafood Boil</td>\n",
       "      <td>Fuzhou, China</td>\n",
       "      <td>16</td>\n",
       "    </tr>\n",
       "    <tr>\n",
       "      <th>4</th>\n",
       "      <td>Askhat Yktybaev</td>\n",
       "      <td>None</td>\n",
       "      <td>cheese cake</td>\n",
       "      <td>Bishkek, Kyrgyzstan</td>\n",
       "      <td>3</td>\n",
       "    </tr>\n",
       "    <tr>\n",
       "      <th>5</th>\n",
       "      <td>Aviva Sally Mazurek</td>\n",
       "      <td>1994-04-29</td>\n",
       "      <td>Burgers</td>\n",
       "      <td>Bronx, NY</td>\n",
       "      <td>2</td>\n",
       "    </tr>\n",
       "    <tr>\n",
       "      <th>6</th>\n",
       "      <td>Ben Johnson-Laird</td>\n",
       "      <td>1900-04-01</td>\n",
       "      <td>Roast Beef and Yorkshire pudding</td>\n",
       "      <td>London, UK</td>\n",
       "      <td>21</td>\n",
       "    </tr>\n",
       "    <tr>\n",
       "      <th>7</th>\n",
       "      <td>Brittany Fowle</td>\n",
       "      <td>1992-05-27</td>\n",
       "      <td>noodles</td>\n",
       "      <td>Painesville, OH</td>\n",
       "      <td>9</td>\n",
       "    </tr>\n",
       "    <tr>\n",
       "      <th>8</th>\n",
       "      <td>Chadwick Balloo</td>\n",
       "      <td>1991-07-29</td>\n",
       "      <td>chicken</td>\n",
       "      <td>Queens, New York</td>\n",
       "      <td>1</td>\n",
       "    </tr>\n",
       "    <tr>\n",
       "      <th>9</th>\n",
       "      <td>Ed Haracz</td>\n",
       "      <td>1995-02-24</td>\n",
       "      <td>pizza</td>\n",
       "      <td>Glen Ridge, NJ</td>\n",
       "      <td>0</td>\n",
       "    </tr>\n",
       "    <tr>\n",
       "      <th>10</th>\n",
       "      <td>Grace Park</td>\n",
       "      <td>1990-04-05</td>\n",
       "      <td>sushi</td>\n",
       "      <td>Flushing, NY</td>\n",
       "      <td>29</td>\n",
       "    </tr>\n",
       "    <tr>\n",
       "      <th>11</th>\n",
       "      <td>Jackson Bull</td>\n",
       "      <td>1987-11-28</td>\n",
       "      <td>fried_chicken</td>\n",
       "      <td>Nashville, TN</td>\n",
       "      <td>8</td>\n",
       "    </tr>\n",
       "    <tr>\n",
       "      <th>12</th>\n",
       "      <td>Julia Chong</td>\n",
       "      <td>1996-11-27</td>\n",
       "      <td>soup dumplings</td>\n",
       "      <td>Portland, OR</td>\n",
       "      <td>2</td>\n",
       "    </tr>\n",
       "    <tr>\n",
       "      <th>13</th>\n",
       "      <td>Owen Peng</td>\n",
       "      <td>1996-05-04</td>\n",
       "      <td>Burgers</td>\n",
       "      <td>OKC, OK</td>\n",
       "      <td>13</td>\n",
       "    </tr>\n",
       "    <tr>\n",
       "      <th>14</th>\n",
       "      <td>Raphael Krantz</td>\n",
       "      <td>1973-03-21</td>\n",
       "      <td>lasagna</td>\n",
       "      <td>New York City</td>\n",
       "      <td>31</td>\n",
       "    </tr>\n",
       "    <tr>\n",
       "      <th>15</th>\n",
       "      <td>Rob Zifchak</td>\n",
       "      <td>1989-08-02</td>\n",
       "      <td>Sushi</td>\n",
       "      <td>Santa Monica, CA</td>\n",
       "      <td>2</td>\n",
       "    </tr>\n",
       "    <tr>\n",
       "      <th>16</th>\n",
       "      <td>Robert Alterman</td>\n",
       "      <td>1996-03-16</td>\n",
       "      <td>chicken fingers</td>\n",
       "      <td>New Rochelle, NY</td>\n",
       "      <td>3</td>\n",
       "    </tr>\n",
       "    <tr>\n",
       "      <th>17</th>\n",
       "      <td>Sean Abu Wilson</td>\n",
       "      <td>1985-02-06</td>\n",
       "      <td>strawberry cake</td>\n",
       "      <td>Birmingham, AL</td>\n",
       "      <td>8</td>\n",
       "    </tr>\n",
       "  </tbody>\n",
       "</table>\n",
       "</div>"
      ],
      "text/plain": [
       "                      0           1                                 2  \\\n",
       "0      Anastasia Gorina  1991-07-19                           oysters   \n",
       "1       Andres M Chaves  1983-01-22                         chocolate   \n",
       "2         Andrew Triola  1989-10-17                        baked ziti   \n",
       "3             Anita Guo  1990-12-17                      Seafood Boil   \n",
       "4       Askhat Yktybaev        None                       cheese cake   \n",
       "5   Aviva Sally Mazurek  1994-04-29                           Burgers   \n",
       "6     Ben Johnson-Laird  1900-04-01  Roast Beef and Yorkshire pudding   \n",
       "7        Brittany Fowle  1992-05-27                           noodles   \n",
       "8       Chadwick Balloo  1991-07-29                           chicken   \n",
       "9             Ed Haracz  1995-02-24                             pizza   \n",
       "10           Grace Park  1990-04-05                             sushi   \n",
       "11         Jackson Bull  1987-11-28                     fried_chicken   \n",
       "12          Julia Chong  1996-11-27                    soup dumplings   \n",
       "13            Owen Peng  1996-05-04                           Burgers   \n",
       "14       Raphael Krantz  1973-03-21                           lasagna   \n",
       "15          Rob Zifchak  1989-08-02                             Sushi   \n",
       "16      Robert Alterman  1996-03-16                   chicken fingers   \n",
       "17      Sean Abu Wilson  1985-02-06                   strawberry cake   \n",
       "\n",
       "                         3   4  \n",
       "0   St. Petersburg, Russia   5  \n",
       "1               Bogota, CU   6  \n",
       "2            Washington DC   3  \n",
       "3            Fuzhou, China  16  \n",
       "4      Bishkek, Kyrgyzstan   3  \n",
       "5                Bronx, NY   2  \n",
       "6               London, UK  21  \n",
       "7          Painesville, OH   9  \n",
       "8         Queens, New York   1  \n",
       "9           Glen Ridge, NJ   0  \n",
       "10            Flushing, NY  29  \n",
       "11           Nashville, TN   8  \n",
       "12            Portland, OR   2  \n",
       "13                 OKC, OK  13  \n",
       "14           New York City  31  \n",
       "15        Santa Monica, CA   2  \n",
       "16        New Rochelle, NY   3  \n",
       "17          Birmingham, AL   8  "
      ]
     },
     "execution_count": 36,
     "metadata": {},
     "output_type": "execute_result"
    }
   ],
   "source": [
    "pd.DataFrame(dat1, columns = ['name', 'dob'])\n"
   ]
  },
  {
   "cell_type": "code",
   "execution_count": 39,
   "metadata": {},
   "outputs": [
    {
     "data": {
      "text/plain": [
       "('Anastasia Gorina',\n",
       " datetime.date(1991, 7, 19),\n",
       " 'oysters',\n",
       " 'St. Petersburg, Russia',\n",
       " 5)"
      ]
     },
     "execution_count": 39,
     "metadata": {},
     "output_type": "execute_result"
    }
   ],
   "source": []
  },
  {
   "cell_type": "code",
   "execution_count": null,
   "metadata": {},
   "outputs": [],
   "source": []
  }
 ],
 "metadata": {
  "kernelspec": {
   "display_name": "Python 3",
   "language": "python",
   "name": "python3"
  },
  "language_info": {
   "codemirror_mode": {
    "name": "ipython",
    "version": 3
   },
   "file_extension": ".py",
   "mimetype": "text/x-python",
   "name": "python",
   "nbconvert_exporter": "python",
   "pygments_lexer": "ipython3",
   "version": "3.7.1"
  }
 },
 "nbformat": 4,
 "nbformat_minor": 2
}
