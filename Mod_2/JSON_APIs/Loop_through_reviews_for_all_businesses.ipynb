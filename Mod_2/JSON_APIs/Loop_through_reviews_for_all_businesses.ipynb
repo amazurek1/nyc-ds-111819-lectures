{
 "cells": [
  {
   "cell_type": "code",
   "execution_count": 1,
   "metadata": {},
   "outputs": [],
   "source": [
    "import requests\n",
    "import json\n",
    "\n",
    "import mysql.connector\n",
    "\n",
    "cnx = mysql.connector.connect(\n",
    "    host = \"flatiron.cimm2ummmfkj.us-east-1.rds.amazonaws.com\",\n",
    "    user = \"avivamaz\",\n",
    "    passwd = \"Ghustav1!\")\n",
    "\n",
    "cursor = cnx.cursor()\n",
    "\n",
    "cnx.database = 'yelp'\n",
    "\n",
    "cursor.execute(\"\"\"SELECT business_id FROM yelp.businesses;\"\"\")\n",
    "\n",
    "is_list = cursor.fetchall()\n",
    "new_list = []\n",
    "for t in is_list: \n",
    "    for x in t: \n",
    "        new_list.append(x)\n",
    "\n",
    "new_list\n",
    "\n",
    "new_list[0]\n",
    "\n",
    "url = f'https://api.yelp.com/v3/businesses/{new_list[0]}/reviews'\n",
    "\n",
    "client_id = 'O-E5Od4R_LRN58GCv0_4xQ'\n",
    "api_key = 'bzeWISo1x-EG8CXGaynhcxkV___l10Fmf4ThmxYaFuIC-xRL3zGM_tS-1UZGBWqv5oCK5f0hhaZLsOufaUrQeWPXX20fitWPuuqW3HLI_2uiYuOzXS-hq2o5OWXpXXYx'\n",
    "\n",
    "headers = {\n",
    "        'Authorization': 'Bearer {}'.format(api_key),\n",
    "    }\n",
    "\n",
    "response = requests.get(url, headers=headers)\n",
    "\n",
    "reviews_1=response.json()\n",
    "\n",
    "list_reviews = []\n",
    "i=0\n",
    "for reviews in reviews_1:\n",
    "    rev_tuple = (reviews_1['reviews'][i]['id'], reviews_1['reviews'][i]['text'], reviews_1['reviews'][i]['rating'],reviews_1['reviews'][i]['time_created'],new_list[0])\n",
    "    list_reviews.append(rev_tuple)\n",
    "    i+=1\n",
    "    \n",
    "insert_stm = \"\"\"INSERT INTO reviews (review_id, review_text, rating, time_created, business_id) \n",
    "VALUES (%s, %s, %s, %s, %s)\"\"\"\n",
    "cursor.executemany(insert_stm, list_reviews)\n",
    "cnx.commit()\n",
    "\n"
   ]
  },
  {
   "cell_type": "code",
   "execution_count": null,
   "metadata": {},
   "outputs": [],
   "source": []
  }
 ],
 "metadata": {
  "kernelspec": {
   "display_name": "Python 3",
   "language": "python",
   "name": "python3"
  },
  "language_info": {
   "codemirror_mode": {
    "name": "ipython",
    "version": 3
   },
   "file_extension": ".py",
   "mimetype": "text/x-python",
   "name": "python",
   "nbconvert_exporter": "python",
   "pygments_lexer": "ipython3",
   "version": "3.7.1"
  }
 },
 "nbformat": 4,
 "nbformat_minor": 2
}
