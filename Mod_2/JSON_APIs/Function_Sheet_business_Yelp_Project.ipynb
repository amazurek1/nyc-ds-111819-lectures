{
 "cells": [
  {
   "cell_type": "code",
   "execution_count": 42,
   "metadata": {},
   "outputs": [],
   "source": [
    "import requests\n",
    "import json"
   ]
  },
  {
   "cell_type": "code",
   "execution_count": 43,
   "metadata": {},
   "outputs": [],
   "source": [
    "import mysql.connector"
   ]
  },
  {
   "cell_type": "code",
   "execution_count": 44,
   "metadata": {},
   "outputs": [],
   "source": [
    "cnx = mysql.connector.connect(\n",
    "    host = \"flatiron.cimm2ummmfkj.us-east-1.rds.amazonaws.com\",\n",
    "    user = \"avivamaz\",\n",
    "    passwd = \"Ghustav1!\")"
   ]
  },
  {
   "cell_type": "code",
   "execution_count": 45,
   "metadata": {},
   "outputs": [],
   "source": [
    "cursor = cnx.cursor()"
   ]
  },
  {
   "cell_type": "code",
   "execution_count": 46,
   "metadata": {},
   "outputs": [],
   "source": [
    "cnx.database = 'yelp'"
   ]
  },
  {
   "cell_type": "code",
   "execution_count": 47,
   "metadata": {},
   "outputs": [],
   "source": [
    "def api_call(url_params,headers, url):\n",
    "    response = requests.get(url, headers=headers, params=url_params)\n",
    "    data = response.json()\n",
    "    business = data['businesses']\n",
    "    return(business) "
   ]
  },
  {
   "cell_type": "code",
   "execution_count": 48,
   "metadata": {},
   "outputs": [],
   "source": [
    "def parse_data(data):\n",
    "    list_businessData = []\n",
    "    for business in data:\n",
    "        try:\n",
    "            biz_tuple = (business['id'],business['name'], ' '.join(business['location']['display_address']),\n",
    "                    business['rating'], len(business['price']), business['review_count'])\n",
    "            list_businessData.append(biz_tuple)\n",
    "        except:\n",
    "            biz_tuple = (business['id'],business['name'], ' '.join(business['location']['display_address']),\n",
    "                    business['rating'], 0, business['review_count'])\n",
    "            list_businessData.append(biz_tuple)\n",
    "    return list_businessData"
   ]
  },
  {
   "cell_type": "code",
   "execution_count": 49,
   "metadata": {},
   "outputs": [],
   "source": [
    "#why have to put cnx and cursor into here\n",
    "def Data_into_table(cnx,cursor,parsed_data):\n",
    "    insert_stm = \"\"\"INSERT INTO businesses (business_id, name, address, rating, price, review_count) VALUES (%s, %s, %s, %s, %s, %s)\"\"\"\n",
    "    cursor.executemany(insert_stm, parsed_data)\n",
    "    cnx.commit()\n",
    "    print('Check the workbench')"
   ]
  },
  {
   "cell_type": "code",
   "execution_count": 50,
   "metadata": {},
   "outputs": [],
   "source": [
    "cur = 0\n",
    "url = 'https://api.yelp.com/v3/businesses/search'\n",
    "client_id = 'O-E5Od4R_LRN58GCv0_4xQ'\n",
    "\n",
    "api_key = 'bzeWISo1x-EG8CXGaynhcxkV___l10Fmf4ThmxYaFuIC-xRL3zGM_tS-1UZGBWqv5oCK5f0hhaZLsOufaUrQeWPXX20fitWPuuqW3HLI_2uiYuOzXS-hq2o5OWXpXXYx'\n",
    "\n",
    "headers = {\n",
    "        'Authorization': 'Bearer {}'.format(api_key),\n",
    "    }\n",
    "\n",
    "term = 'bagel'\n",
    "location = 'East Village'\n",
    "radius = 5000\n",
    "limit = 50\n",
    "\n",
    "\n",
    "offset = cur\n",
    "\n",
    "url_params = {\n",
    "                'term': term.replace(' ', '+'),\n",
    "                'location': location.replace(' ', '+'),\n",
    "                'radius': radius,\n",
    "                'limit': limit,\n",
    "                'offset': offset\n",
    "            }"
   ]
  },
  {
   "cell_type": "code",
   "execution_count": 51,
   "metadata": {},
   "outputs": [],
   "source": [
    "while cur < 1000:\n",
    "        business=api_call(url_params,headers, url)\n",
    "        parsed_data=parse_data(business)\n",
    "        Data_into_table(cnx, cursor, parsed_data)\n",
    "        cur += 50\n",
    "        url_params['offset'] = cur"
   ]
  },
  {
   "cell_type": "code",
   "execution_count": null,
   "metadata": {},
   "outputs": [],
   "source": []
  }
 ],
 "metadata": {
  "kernelspec": {
   "display_name": "Python 3",
   "language": "python",
   "name": "python3"
  },
  "language_info": {
   "codemirror_mode": {
    "name": "ipython",
    "version": 3
   },
   "file_extension": ".py",
   "mimetype": "text/x-python",
   "name": "python",
   "nbconvert_exporter": "python",
   "pygments_lexer": "ipython3",
   "version": "3.7.1"
  }
 },
 "nbformat": 4,
 "nbformat_minor": 2
}
