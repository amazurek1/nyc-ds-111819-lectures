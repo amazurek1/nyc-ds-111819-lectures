{
 "cells": [
  {
   "cell_type": "code",
   "execution_count": 3,
   "metadata": {},
   "outputs": [
    {
     "name": "stdout",
     "output_type": "stream",
     "text": [
      "-4kcsbvIeYs_Zxu7V1PYOw\n",
      "-6_mNKxOChmZb6qcdMfOtA\n",
      "-9lLvldlGVYz2J5zIVFCFQ\n",
      "-A81u3-QYa5paw3eni26bg\n",
      "-ogb8JWn8dvgzZA656EANA\n",
      "-Qc-eEU6EyOMcrnzQf-eSQ\n",
      "-QxLmhWY8D7e3ivpebUPng\n",
      "-rM1ZG6WjgIpmYAlG__dnA\n",
      "-S_tOPcfwhxO5NTHQEjIrA\n",
      "-Td-YEPTOUq2H3LRWgRxUw\n",
      "-Uc6m_rQqYSgRr8FBd63Yw\n",
      "065Hx78ODuM19f_ffD7Isw\n",
      "0dO6JJPmkivbK8-Qu5eUYg\n",
      "0EHlocaJGVHPENeILaubUg\n",
      "0gHKcrQlEuDUsCr3YuWSDA\n",
      "0IwdwNnbro5RLLIlaxyfpQ\n",
      "0moBSyrTezcT3uePV74nug\n",
      "0pohq-vk8zKoi8ntSJnX4g\n",
      "0q4NOJmbJhm-zJELYs_0Tg\n",
      "0QGtlNv6I6CqyWV_06CqOQ\n",
      "0rQz8mkleT62eUkiAVs4UA\n",
      "0UoDd4oBGc80oMdemaFldA\n",
      "0VYAqXbYRcyiQU8QS-SG_g\n",
      "0V_y6DvAa94uG9F3Itgl_g\n",
      "0wSOGZrj4ILpZSgE7SaYuw\n",
      "1-K3qGMOtZ_Dv5e7CJxusQ\n",
      "109GtGdJjPDLbGgnnld3Kw\n",
      "12anHG0qFlw8Jkb99RX3Mg\n",
      "18-qEPtsL2lbZH4ianmicg\n",
      "1BpJdbEdJzfIqpmbqxv0wg\n"
     ]
    },
    {
     "ename": "IndexError",
     "evalue": "list index out of range",
     "output_type": "error",
     "traceback": [
      "\u001b[0;31m---------------------------------------------------------------------------\u001b[0m",
      "\u001b[0;31mIndexError\u001b[0m                                Traceback (most recent call last)",
      "\u001b[0;32m<ipython-input-3-5659233b9999>\u001b[0m in \u001b[0;36m<module>\u001b[0;34m\u001b[0m\n\u001b[1;32m     47\u001b[0m     \u001b[0mi\u001b[0m\u001b[0;34m=\u001b[0m\u001b[0;36m0\u001b[0m\u001b[0;34m\u001b[0m\u001b[0;34m\u001b[0m\u001b[0m\n\u001b[1;32m     48\u001b[0m     \u001b[0;32mfor\u001b[0m \u001b[0mreviews\u001b[0m \u001b[0;32min\u001b[0m \u001b[0mreviews_1\u001b[0m\u001b[0;34m:\u001b[0m\u001b[0;34m\u001b[0m\u001b[0;34m\u001b[0m\u001b[0m\n\u001b[0;32m---> 49\u001b[0;31m         \u001b[0mrev_tuple\u001b[0m \u001b[0;34m=\u001b[0m \u001b[0;34m(\u001b[0m\u001b[0mreviews_1\u001b[0m\u001b[0;34m[\u001b[0m\u001b[0;34m'reviews'\u001b[0m\u001b[0;34m]\u001b[0m\u001b[0;34m[\u001b[0m\u001b[0mi\u001b[0m\u001b[0;34m]\u001b[0m\u001b[0;34m[\u001b[0m\u001b[0;34m'id'\u001b[0m\u001b[0;34m]\u001b[0m\u001b[0;34m,\u001b[0m \u001b[0mreviews_1\u001b[0m\u001b[0;34m[\u001b[0m\u001b[0;34m'reviews'\u001b[0m\u001b[0;34m]\u001b[0m\u001b[0;34m[\u001b[0m\u001b[0mi\u001b[0m\u001b[0;34m]\u001b[0m\u001b[0;34m[\u001b[0m\u001b[0;34m'text'\u001b[0m\u001b[0;34m]\u001b[0m\u001b[0;34m,\u001b[0m \u001b[0mreviews_1\u001b[0m\u001b[0;34m[\u001b[0m\u001b[0;34m'reviews'\u001b[0m\u001b[0;34m]\u001b[0m\u001b[0;34m[\u001b[0m\u001b[0mi\u001b[0m\u001b[0;34m]\u001b[0m\u001b[0;34m[\u001b[0m\u001b[0;34m'rating'\u001b[0m\u001b[0;34m]\u001b[0m\u001b[0;34m,\u001b[0m\u001b[0mreviews_1\u001b[0m\u001b[0;34m[\u001b[0m\u001b[0;34m'reviews'\u001b[0m\u001b[0;34m]\u001b[0m\u001b[0;34m[\u001b[0m\u001b[0mi\u001b[0m\u001b[0;34m]\u001b[0m\u001b[0;34m[\u001b[0m\u001b[0;34m'time_created'\u001b[0m\u001b[0;34m]\u001b[0m\u001b[0;34m,\u001b[0m\u001b[0mnew_list\u001b[0m\u001b[0;34m[\u001b[0m\u001b[0mx\u001b[0m\u001b[0;34m]\u001b[0m\u001b[0;34m)\u001b[0m\u001b[0;34m\u001b[0m\u001b[0;34m\u001b[0m\u001b[0m\n\u001b[0m\u001b[1;32m     50\u001b[0m         \u001b[0mlist_reviews\u001b[0m\u001b[0;34m.\u001b[0m\u001b[0mappend\u001b[0m\u001b[0;34m(\u001b[0m\u001b[0mrev_tuple\u001b[0m\u001b[0;34m)\u001b[0m\u001b[0;34m\u001b[0m\u001b[0;34m\u001b[0m\u001b[0m\n\u001b[1;32m     51\u001b[0m         \u001b[0mi\u001b[0m\u001b[0;34m+=\u001b[0m\u001b[0;36m1\u001b[0m\u001b[0;34m\u001b[0m\u001b[0;34m\u001b[0m\u001b[0m\n",
      "\u001b[0;31mIndexError\u001b[0m: list index out of range"
     ]
    }
   ],
   "source": [
    "import requests\n",
    "import json\n",
    "\n",
    "import mysql.connector\n",
    "\n",
    "cnx = mysql.connector.connect(\n",
    "    host = \"flatiron.cimm2ummmfkj.us-east-1.rds.amazonaws.com\",\n",
    "    user = \"avivamaz\",\n",
    "    passwd = \"Ghustav1!\")\n",
    "\n",
    "cursor = cnx.cursor()\n",
    "\n",
    "cnx.database = 'yelp'\n",
    "\n",
    "cursor.execute(\"\"\"SELECT business_id FROM yelp.businesses;\"\"\")\n",
    "\n",
    "is_list = cursor.fetchall()\n",
    "new_list = []\n",
    "for t in is_list: \n",
    "    for x in t: \n",
    "        new_list.append(x)\n",
    "\n",
    "new_list\n",
    "\n",
    "new_list[0]\n",
    "\n",
    "x= 0\n",
    "\n",
    "for business in new_list:\n",
    "    print(new_list[x])\n",
    "    \n",
    "\n",
    "    url = f'https://api.yelp.com/v3/businesses/{new_list[x]}/reviews'\n",
    "\n",
    "    client_id = 'O-E5Od4R_LRN58GCv0_4xQ'\n",
    "    api_key = 'bzeWISo1x-EG8CXGaynhcxkV___l10Fmf4ThmxYaFuIC-xRL3zGM_tS-1UZGBWqv5oCK5f0hhaZLsOufaUrQeWPXX20fitWPuuqW3HLI_2uiYuOzXS-hq2o5OWXpXXYx'\n",
    "\n",
    "    headers = {\n",
    "            'Authorization': 'Bearer {}'.format(api_key),\n",
    "        }\n",
    "\n",
    "    response = requests.get(url, headers=headers)\n",
    "\n",
    "    reviews_1=response.json()\n",
    "\n",
    "    list_reviews = []\n",
    "    i=0\n",
    "    for reviews in reviews_1:\n",
    "        rev_tuple = (reviews_1['reviews'][i]['id'], reviews_1['reviews'][i]['text'], reviews_1['reviews'][i]['rating'],reviews_1['reviews'][i]['time_created'],new_list[x])\n",
    "        list_reviews.append(rev_tuple)\n",
    "        i+=1\n",
    "\n",
    "    insert_stm = \"\"\"INSERT INTO reviews (review_id, review_text, rating, time_created, business_id) \n",
    "    VALUES (%s, %s, %s, %s, %s)\"\"\"\n",
    "    cursor.executemany(insert_stm, list_reviews)\n",
    "    cnx.commit()\n",
    "\n",
    "    x+=1\n",
    "\n"
   ]
  },
  {
   "cell_type": "code",
   "execution_count": null,
   "metadata": {},
   "outputs": [],
   "source": []
  }
 ],
 "metadata": {
  "kernelspec": {
   "display_name": "Python 3",
   "language": "python",
   "name": "python3"
  },
  "language_info": {
   "codemirror_mode": {
    "name": "ipython",
    "version": 3
   },
   "file_extension": ".py",
   "mimetype": "text/x-python",
   "name": "python",
   "nbconvert_exporter": "python",
   "pygments_lexer": "ipython3",
   "version": "3.7.1"
  }
 },
 "nbformat": 4,
 "nbformat_minor": 2
}
