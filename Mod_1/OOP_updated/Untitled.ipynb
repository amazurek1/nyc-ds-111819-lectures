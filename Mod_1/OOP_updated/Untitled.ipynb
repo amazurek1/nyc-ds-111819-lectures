{
 "cells": [
  {
   "cell_type": "code",
   "execution_count": 1,
   "metadata": {},
   "outputs": [],
   "source": [
    "import math"
   ]
  },
  {
   "cell_type": "code",
   "execution_count": 2,
   "metadata": {},
   "outputs": [
    {
     "data": {
      "text/plain": [
       "2.0"
      ]
     },
     "execution_count": 2,
     "metadata": {},
     "output_type": "execute_result"
    }
   ],
   "source": [
    "math.sqrt(4)"
   ]
  },
  {
   "cell_type": "code",
   "execution_count": 11,
   "metadata": {},
   "outputs": [],
   "source": [
    "class Calculator:\n",
    "    def __init__ (self, data):\n",
    "        self.data = data\n",
    "        self.length = self._calc_length()\n",
    "        self.mean = self._calc_mean()\n",
    "        self.median = self._calc_median()\n",
    "        self.variance = self._calc_variance()\n",
    "        self.std_dev = self._calc_stndev()\n",
    "\n",
    "    def _calc_mean(self):\n",
    "        return(sum(self.data)/len(self.data))\n",
    "\n",
    "    def _calc_length(self):\n",
    "        return(len(self.data))\n",
    "\n",
    "    def _calc_median(self):\n",
    "        if len(self.data) % 2 == 0:\n",
    "            mid_left = self.data[len(self.data) // 2 - 1]\n",
    "            mid_right = self.data[len(self.data) // 2]\n",
    "            avg = (mid_left + mid_right) / 2\n",
    "        else:\n",
    "            avg = self.data[len(self.data) // 2]\n",
    "        return avg\n",
    "\n",
    "    def _calc_variance(self):\n",
    "        avg_x = (sum(self.data) / len(self.data))\n",
    "        added_up = []\n",
    "        for item in self.data:\n",
    "            added_up.append((item - avg_x) ** 2)\n",
    "        return (sum(added_up) / (len(self.data) - 1))\n",
    "\n",
    "    def _calc_stndev(self):\n",
    "        avg_x = (sum(self.data) / len(self.data))\n",
    "        added_up = []\n",
    "        for item in self.data:\n",
    "            added_up.append((item - avg_x) ** 2)\n",
    "        return ((sum(added_up) / (len(self.data) - 1))**0.5)\n",
    "\n",
    "    def add_data(self,new_data):\n",
    "        self.data.append(new_data)\n",
    "\n",
    "    def remove_data(self,old_data):\n",
    "        self.data.remove(old_data)"
   ]
  },
  {
   "cell_type": "code",
   "execution_count": 12,
   "metadata": {},
   "outputs": [],
   "source": [
    "data_1 = Calculator([1,2,3,4,5,6,7,8,9,10])"
   ]
  },
  {
   "cell_type": "code",
   "execution_count": 13,
   "metadata": {},
   "outputs": [
    {
     "name": "stdout",
     "output_type": "stream",
     "text": [
      "5.5\n"
     ]
    }
   ],
   "source": [
    "print(data_1.mean)"
   ]
  },
  {
   "cell_type": "code",
   "execution_count": null,
   "metadata": {},
   "outputs": [],
   "source": []
  }
 ],
 "metadata": {
  "kernelspec": {
   "display_name": "Python 3",
   "language": "python",
   "name": "python3"
  },
  "language_info": {
   "codemirror_mode": {
    "name": "ipython",
    "version": 3
   },
   "file_extension": ".py",
   "mimetype": "text/x-python",
   "name": "python",
   "nbconvert_exporter": "python",
   "pygments_lexer": "ipython3",
   "version": "3.7.1"
  }
 },
 "nbformat": 4,
 "nbformat_minor": 2
}
